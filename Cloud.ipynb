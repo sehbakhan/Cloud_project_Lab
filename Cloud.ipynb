{
 "cells": [
  {
   "cell_type": "markdown",
   "metadata": {},
   "source": [
    "## Task 1. Configure your environment and account\n",
    "Sign in to the Google Cloud console with your lab credentials, and open the Cloud Shell terminal window.\n",
    "\n",
    "To set your project ID and region environment variables, in Cloud Shell, run the following commands:"
   ]
  },
  {
   "cell_type": "markdown",
   "metadata": {},
   "source": [
    "PROJECT_ID=$(gcloud config get-value project)\n",
    "REGION=us-east4\n",
    "echo \"PROJECT_ID=${PROJECT_ID}\"\n",
    "echo \"REGION=${REGION}\""
   ]
  },
  {
   "cell_type": "markdown",
   "metadata": {},
   "source": [
    "Enable the Cloud AI Companion API for Gemini:"
   ]
  },
  {
   "cell_type": "markdown",
   "metadata": {},
   "source": [
    "gcloud services enable cloudaicompanion.googleapis.com --project ${PROJECT_ID}"
   ]
  },
  {
   "cell_type": "markdown",
   "metadata": {},
   "source": [
    "To use Gemini, grant the necessary IAM roles to your Google Cloud Qwiklabs user account:"
   ]
  },
  {
   "cell_type": "markdown",
   "metadata": {},
   "source": [
    "gcloud projects add-iam-policy-binding ${PROJECT_ID} --member user:${USER} --role=roles/cloudaicompanion.user\n",
    "gcloud projects add-iam-policy-binding ${PROJECT_ID} --member user:${USER} --role=roles/serviceusage.serviceUsageViewer"
   ]
  },
  {
   "cell_type": "markdown",
   "metadata": {},
   "source": [
    "## Task 2. Create a Cloud Workstation"
   ]
  },
  {
   "cell_type": "markdown",
   "metadata": {},
   "source": [
    "A workstation cluster named my-cluster has been pre-created for this lab. This cluster is used to configure and create a workstation.\n",
    "\n",
    "In the Google Cloud console, select the Navigation menu (Navigation menu icon), and then select View All Products > Tools > Cloud Workstations.\n",
    "\n",
    "In the Navigation pane, click Cluster management.\n",
    "\n",
    "Check the Status of the cluster. If the status of the cluster is Reconciling or Updating, periodically refresh and wait until it becomes Ready before moving to the next step."
   ]
  },
  {
   "cell_type": "markdown",
   "metadata": {},
   "source": [
    "Before creating a workstation, you must create a workstation configuration in Cloud Workstations.\n",
    "\n",
    "In the Navigation pane, click Workstation configurations, and then click Create Workstation Configuration.\n",
    "\n",
    "Specify the following values:\n",
    "\n",
    "Property\tValue\n",
    "Name     -\tmy-config\n",
    "Workstation cluster\tselect my-cluster\n",
    "Click Create.\n",
    "\n",
    "Click Refresh.\n",
    "\n",
    "Check the Status of the configuration being created. If the status of the configuration is Reconciling or Updating, periodically refresh and wait until the status becomes Ready before moving to the next step."
   ]
  },
  {
   "cell_type": "code",
   "execution_count": null,
   "metadata": {},
   "outputs": [],
   "source": [
    "Create a workstation\n",
    "In the Navigation pane, click Workstations, and then click Create Workstation.\n",
    "\n",
    "Specify the following values:\n",
    "\n",
    "Property\tValue\n",
    "Name\t-   my-workstation\n",
    "Configuration\tselect my-config\n",
    "Click Create.\n",
    "\n",
    "After the workstation is created, it is listed under My workstations with a status of Stopped.\n",
    "\n",
    "To start the workstation, click Start.\n",
    "\n",
    "As the workstation starts up, the status changes to Starting. Wait for the status to change to Running which indicates that it is ready to be used. It might take several minutes for the workstation to fully start up."
   ]
  },
  {
   "cell_type": "markdown",
   "metadata": {},
   "source": [
    "## Task 3. Develop a Python app"
   ]
  },
  {
   "cell_type": "markdown",
   "metadata": {},
   "source": [
    "Create a Python app by using the steps from Gemini\n",
    "Click the menu (Code OSS main menu), and then navigate to View > Command Palette.\n",
    "\n",
    "Type Cloud Code New, and then select Cloud Code: New Application.\n",
    "\n",
    "Select Cloud Run application.\n",
    "\n",
    "Select Python (Flask): Cloud Run.\n",
    "\n",
    "Update the name of the app and top-level folder to /home/user/hello-world, and then click Ok.\n",
    "\n",
    "Cloud Code downloads the template and creates the application files in the folder in your IDE."
   ]
  },
  {
   "cell_type": "markdown",
   "metadata": {},
   "source": [
    "## Task 7. Deploy the app to Cloud Run"
   ]
  },
  {
   "cell_type": "markdown",
   "metadata": {},
   "source": [
    "You can now deploy the app to Cloud Run on Google Cloud.\n",
    "\n",
    "In the activity bar main menu (Code OSS main menu), click View > Command Palette.\n",
    "\n",
    "In the command palette field, type Cloud Code Deploy, and then select Cloud Code: Deploy to Cloud Run from the list.\n",
    "\n",
    "To enable the Cloud Run API for your project, click Enable API.\n",
    "\n",
    "On the Service Settings page, for Region, select us-east4.\n",
    "\n",
    "Leave the remaining settings as their defaults, and then click Deploy.\n",
    "\n",
    "Cloud Code builds your image, pushes it to the registry, and deploys your service to Cloud Run. This may take a few minutes."
   ]
  },
  {
   "cell_type": "markdown",
   "metadata": {},
   "source": [
    "To view your running service, open the URL that is displayed in the Deploy to Cloud Run dialog.\n",
    "\n",
    "Test your service by appending the /inventory, and /inventory/{productID} paths to the URL, and verify the response."
   ]
  }
 ],
 "metadata": {
  "language_info": {
   "name": "python"
  }
 },
 "nbformat": 4,
 "nbformat_minor": 2
}
